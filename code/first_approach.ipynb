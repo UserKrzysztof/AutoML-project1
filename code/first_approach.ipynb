{
 "cells": [
  {
   "cell_type": "code",
   "execution_count": 2,
   "metadata": {},
   "outputs": [],
   "source": [
    "from sklearn.pipeline import Pipeline\n",
    "from sklearn.impute import SimpleImputer\n",
    "from sklearn.preprocessing import OneHotEncoder, MinMaxScaler\n",
    "from sklearn.compose import ColumnTransformer, make_column_selector\n",
    "\n",
    "from sklearn.model_selection import cross_validate\n",
    "\n",
    "from sklearn.ensemble import RandomForestClassifier\n",
    "from sklearn.tree import DecisionTreeClassifier\n",
    "from xgboost import XGBClassifier\n",
    "\n",
    "import numpy as np\n",
    "import os\n",
    "import pandas as pd"
   ]
  },
  {
   "cell_type": "markdown",
   "metadata": {},
   "source": [
    "# Data\n"
   ]
  },
  {
   "cell_type": "code",
   "execution_count": 3,
   "metadata": {},
   "outputs": [],
   "source": [
    "data_path = \"../data\"\n",
    "DATA = []\n",
    "for file in os.listdir(data_path):\n",
    "    DATA.append(pd.read_csv(os.path.join(data_path,file)))"
   ]
  },
  {
   "cell_type": "code",
   "execution_count": 4,
   "metadata": {},
   "outputs": [
    {
     "name": "stdout",
     "output_type": "stream",
     "text": [
      "<class 'pandas.core.frame.DataFrame'>\n",
      "RangeIndex: 5000 entries, 0 to 4999\n",
      "Data columns (total 17 columns):\n",
      " #   Column     Non-Null Count  Dtype \n",
      "---  ------     --------------  ----- \n",
      " 0   age        5000 non-null   int64 \n",
      " 1   job        5000 non-null   object\n",
      " 2   marital    5000 non-null   object\n",
      " 3   education  5000 non-null   object\n",
      " 4   default    5000 non-null   object\n",
      " 5   balance    5000 non-null   int64 \n",
      " 6   housing    5000 non-null   object\n",
      " 7   loan       5000 non-null   object\n",
      " 8   contact    5000 non-null   object\n",
      " 9   day        5000 non-null   int64 \n",
      " 10  month      5000 non-null   object\n",
      " 11  duration   5000 non-null   int64 \n",
      " 12  campaign   5000 non-null   int64 \n",
      " 13  pdays      5000 non-null   int64 \n",
      " 14  previous   5000 non-null   int64 \n",
      " 15  poutcome   5000 non-null   object\n",
      " 16  y          5000 non-null   object\n",
      "dtypes: int64(7), object(10)\n",
      "memory usage: 664.2+ KB\n",
      "None\n",
      "<class 'pandas.core.frame.DataFrame'>\n",
      "RangeIndex: 5000 entries, 0 to 4999\n",
      "Data columns (total 25 columns):\n",
      " #   Column                             Non-Null Count  Dtype  \n",
      "---  ------                             --------------  -----  \n",
      " 0   Unnamed: 0                         5000 non-null   int64  \n",
      " 1   id                                 5000 non-null   int64  \n",
      " 2   Gender                             5000 non-null   object \n",
      " 3   Customer Type                      5000 non-null   object \n",
      " 4   Age                                5000 non-null   int64  \n",
      " 5   Type of Travel                     5000 non-null   object \n",
      " 6   Class                              5000 non-null   object \n",
      " 7   Flight Distance                    5000 non-null   int64  \n",
      " 8   Inflight wifi service              5000 non-null   int64  \n",
      " 9   Departure/Arrival time convenient  5000 non-null   int64  \n",
      " 10  Ease of Online booking             5000 non-null   int64  \n",
      " 11  Gate location                      5000 non-null   int64  \n",
      " 12  Food and drink                     5000 non-null   int64  \n",
      " 13  Online boarding                    5000 non-null   int64  \n",
      " 14  Seat comfort                       5000 non-null   int64  \n",
      " 15  Inflight entertainment             5000 non-null   int64  \n",
      " 16  On-board service                   5000 non-null   int64  \n",
      " 17  Leg room service                   5000 non-null   int64  \n",
      " 18  Baggage handling                   5000 non-null   int64  \n",
      " 19  Checkin service                    5000 non-null   int64  \n",
      " 20  Inflight service                   5000 non-null   int64  \n",
      " 21  Cleanliness                        5000 non-null   int64  \n",
      " 22  Departure Delay in Minutes         5000 non-null   int64  \n",
      " 23  Arrival Delay in Minutes           4981 non-null   float64\n",
      " 24  satisfaction                       5000 non-null   object \n",
      "dtypes: float64(1), int64(19), object(5)\n",
      "memory usage: 976.7+ KB\n",
      "None\n",
      "<class 'pandas.core.frame.DataFrame'>\n",
      "RangeIndex: 5000 entries, 0 to 4999\n",
      "Data columns (total 21 columns):\n",
      " #   Column                Non-Null Count  Dtype  \n",
      "---  ------                --------------  -----  \n",
      " 0   season                5000 non-null   object \n",
      " 1   cap-diameter          5000 non-null   float64\n",
      " 2   cap-shape             5000 non-null   object \n",
      " 3   cap-surface           3839 non-null   object \n",
      " 4   cap-color             5000 non-null   object \n",
      " 5   does-bruise-or-bleed  5000 non-null   object \n",
      " 6   gill-attachment       4215 non-null   object \n",
      " 7   gill-spacing          2992 non-null   object \n",
      " 8   gill-color            5000 non-null   object \n",
      " 9   stem-height           5000 non-null   float64\n",
      " 10  stem-width            5000 non-null   float64\n",
      " 11  stem-root             747 non-null    object \n",
      " 12  stem-surface          1934 non-null   object \n",
      " 13  stem-color            5000 non-null   object \n",
      " 14  veil-type             258 non-null    object \n",
      " 15  veil-color            578 non-null    object \n",
      " 16  has-ring              5000 non-null   object \n",
      " 17  ring-type             4784 non-null   object \n",
      " 18  spore-print-color     513 non-null    object \n",
      " 19  habitat               5000 non-null   object \n",
      " 20  class                 5000 non-null   object \n",
      "dtypes: float64(3), object(18)\n",
      "memory usage: 820.4+ KB\n",
      "None\n",
      "<class 'pandas.core.frame.DataFrame'>\n",
      "RangeIndex: 5000 entries, 0 to 4999\n",
      "Data columns (total 23 columns):\n",
      " #   Column         Non-Null Count  Dtype  \n",
      "---  ------         --------------  -----  \n",
      " 0   Date           5000 non-null   object \n",
      " 1   Location       5000 non-null   object \n",
      " 2   MinTemp        4975 non-null   float64\n",
      " 3   MaxTemp        4993 non-null   float64\n",
      " 4   Rainfall       4955 non-null   float64\n",
      " 5   Evaporation    2853 non-null   float64\n",
      " 6   Sunshine       2612 non-null   float64\n",
      " 7   WindGustDir    4665 non-null   object \n",
      " 8   WindGustSpeed  4667 non-null   float64\n",
      " 9   WindDir9am     4608 non-null   object \n",
      " 10  WindDir3pm     4868 non-null   object \n",
      " 11  WindSpeed9am   4961 non-null   float64\n",
      " 12  WindSpeed3pm   4914 non-null   float64\n",
      " 13  Humidity9am    4943 non-null   float64\n",
      " 14  Humidity3pm    4882 non-null   float64\n",
      " 15  Pressure9am    4493 non-null   float64\n",
      " 16  Pressure3pm    4496 non-null   float64\n",
      " 17  Cloud9am       3103 non-null   float64\n",
      " 18  Cloud3pm       3009 non-null   float64\n",
      " 19  Temp9am        4976 non-null   float64\n",
      " 20  Temp3pm        4916 non-null   float64\n",
      " 21  RainToday      4955 non-null   object \n",
      " 22  RainTomorrow   5000 non-null   object \n",
      "dtypes: float64(16), object(7)\n",
      "memory usage: 898.6+ KB\n",
      "None\n"
     ]
    }
   ],
   "source": [
    "for data in DATA:\n",
    "    print(data.info())"
   ]
  },
  {
   "cell_type": "markdown",
   "metadata": {},
   "source": [
    "# Pipeline"
   ]
  },
  {
   "cell_type": "code",
   "execution_count": 5,
   "metadata": {},
   "outputs": [],
   "source": [
    "num_pipeline = Pipeline(steps=[\n",
    "    ('impute', SimpleImputer()),\n",
    "    ('scale', MinMaxScaler())\n",
    "])\n",
    "\n",
    "cat_pipeline = Pipeline(steps=[\n",
    "    ('impute', SimpleImputer(strategy=\"most_frequent\")),\n",
    "    ('one-hot', OneHotEncoder(handle_unknown='ignore'))\n",
    "])\n",
    "\n",
    "\n",
    "col_trans = ColumnTransformer([\n",
    "    ('num_pipeline', num_pipeline, make_column_selector(dtype_include = np.number)),\n",
    "    ('cat_pipeline', cat_pipeline, make_column_selector(dtype_include = np.object_))\n",
    "])\n"
   ]
  },
  {
   "cell_type": "code",
   "execution_count": 7,
   "metadata": {},
   "outputs": [],
   "source": [
    "classifiers = [\n",
    "    DecisionTreeClassifier(),\n",
    "    RandomForestClassifier(),\n",
    "    XGBClassifier(),\n",
    "]\n",
    "\n",
    "pipelines = []"
   ]
  },
  {
   "cell_type": "code",
   "execution_count": 8,
   "metadata": {},
   "outputs": [],
   "source": [
    "for classifier in classifiers:\n",
    "    pipelines.append((type(classifier), Pipeline([(\"transformer\", col_trans), (\"model\", classifier)])))"
   ]
  },
  {
   "cell_type": "code",
   "execution_count": 9,
   "metadata": {},
   "outputs": [],
   "source": [
    "from sklearn.calibration import LabelEncoder\n",
    "\n",
    "\n",
    "scores = []\n",
    "\n",
    "for pipe in pipelines:\n",
    "    pipe_score = []\n",
    "    for data in DATA:\n",
    "        score = cross_validate(pipe[1], data.iloc[:, :-1], LabelEncoder().fit_transform(data.iloc[:,-1]), cv = 5, scoring=\"accuracy\")\n",
    "        pipe_score.append(score[\"test_score\"].mean())\n",
    "\n",
    "    scores.append((pipe[0], pipe_score))"
   ]
  },
  {
   "cell_type": "code",
   "execution_count": 10,
   "metadata": {},
   "outputs": [
    {
     "data": {
      "text/plain": [
       "['banking_final.csv',\n",
       " 'flights_final.csv',\n",
       " 'mushrooms_final.csv',\n",
       " 'weather_final.csv']"
      ]
     },
     "execution_count": 10,
     "metadata": {},
     "output_type": "execute_result"
    }
   ],
   "source": [
    "os.listdir(\"../data\")"
   ]
  },
  {
   "cell_type": "code",
   "execution_count": 11,
   "metadata": {},
   "outputs": [
    {
     "data": {
      "text/plain": [
       "[(sklearn.tree._classes.DecisionTreeClassifier,\n",
       "  [0.8667999999999999, 0.9136, 0.9798, 0.7933999999999999]),\n",
       " (sklearn.ensemble._forest.RandomForestClassifier,\n",
       "  [0.901, 0.9426, 0.9998000000000001, 0.8324]),\n",
       " (xgboost.sklearn.XGBClassifier,\n",
       "  [0.9016, 0.9469999999999998, 0.9974000000000001, 0.8368])]"
      ]
     },
     "execution_count": 11,
     "metadata": {},
     "output_type": "execute_result"
    }
   ],
   "source": [
    "scores"
   ]
  },
  {
   "cell_type": "markdown",
   "metadata": {},
   "source": [
    "# Random Searching"
   ]
  },
  {
   "cell_type": "code",
   "execution_count": 18,
   "metadata": {},
   "outputs": [],
   "source": [
    "from sklearn.model_selection import RandomizedSearchCV\n",
    "from scipy.stats import randint\n",
    "\n",
    "best_model = []\n",
    "best_score = []\n",
    "\n",
    "param_distributions = [\n",
    "    {\n",
    "        \"model__max_depth\": randint(1,30),\n",
    "        \"model__min_samples_split\":randint(1,60),\n",
    "        \"model__criterion\":[\"gini\",\"entropy\"],\n",
    "        \"model__min_samples_leaf\":randint(1,60)\n",
    "    }\n",
    "]\n",
    "best_params_decisionTree = [[],[],[],[]]\n",
    "for i,pipe in enumerate(pipelines):\n",
    "    if i >0: break\n",
    "    pipe_best_models = []\n",
    "    pipe_best_scores = []\n",
    "    for j,data in enumerate(DATA):\n",
    "        #data.iloc[:, :-1],LabelEncoder().fit_transform(data.iloc[:,-1]),\n",
    "        rs = RandomizedSearchCV(pipe[1], \n",
    "                                param_distributions= param_distributions[i]\n",
    "                                )\n",
    "        rs.fit(data.iloc[:, :-1],LabelEncoder().fit_transform(data.iloc[:,-1]))\n",
    "        best_params_decisionTree[j].append(rs.best_params_)\n",
    "        "
   ]
  },
  {
   "cell_type": "code",
   "execution_count": 19,
   "metadata": {},
   "outputs": [
    {
     "data": {
      "text/plain": [
       "[[{'model__criterion': 'entropy',\n",
       "   'model__max_depth': 5,\n",
       "   'model__min_samples_leaf': 59,\n",
       "   'model__min_samples_split': 27}],\n",
       " [{'model__criterion': 'gini',\n",
       "   'model__max_depth': 14,\n",
       "   'model__min_samples_leaf': 11,\n",
       "   'model__min_samples_split': 43}],\n",
       " [{'model__criterion': 'entropy',\n",
       "   'model__max_depth': 27,\n",
       "   'model__min_samples_leaf': 1,\n",
       "   'model__min_samples_split': 15}],\n",
       " [{'model__criterion': 'gini',\n",
       "   'model__max_depth': 7,\n",
       "   'model__min_samples_leaf': 43,\n",
       "   'model__min_samples_split': 44}]]"
      ]
     },
     "execution_count": 19,
     "metadata": {},
     "output_type": "execute_result"
    }
   ],
   "source": [
    "best_params_decisionTree"
   ]
  }
 ],
 "metadata": {
  "kernelspec": {
   "display_name": "Python 3",
   "language": "python",
   "name": "python3"
  },
  "language_info": {
   "codemirror_mode": {
    "name": "ipython",
    "version": 3
   },
   "file_extension": ".py",
   "mimetype": "text/x-python",
   "name": "python",
   "nbconvert_exporter": "python",
   "pygments_lexer": "ipython3",
   "version": "3.11.10"
  }
 },
 "nbformat": 4,
 "nbformat_minor": 2
}
