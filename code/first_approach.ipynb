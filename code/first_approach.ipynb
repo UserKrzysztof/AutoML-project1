{
 "cells": [
  {
   "cell_type": "code",
   "execution_count": 2,
   "metadata": {},
   "outputs": [],
   "source": [
    "from sklearn.pipeline import Pipeline\n",
    "from sklearn.impute import SimpleImputer\n",
    "from sklearn.preprocessing import OneHotEncoder, MinMaxScaler\n",
    "from sklearn.compose import ColumnTransformer, make_column_selector\n",
    "\n",
    "from sklearn.model_selection import cross_validate\n",
    "\n",
    "from sklearn.ensemble import RandomForestClassifier\n",
    "from sklearn.tree import DecisionTreeClassifier\n",
    "from xgboost import XGBClassifier\n",
    "\n",
    "import numpy as np\n",
    "import os\n",
    "import pandas as pd"
   ]
  },
  {
   "cell_type": "markdown",
   "metadata": {},
   "source": [
    "# Data\n"
   ]
  },
  {
   "cell_type": "code",
   "execution_count": 3,
   "metadata": {},
   "outputs": [],
   "source": [
    "data_path = \"../data\"\n",
    "DATA = []\n",
    "for file in os.listdir(data_path):\n",
    "    DATA.append(pd.read_csv(os.path.join(data_path,file)))"
   ]
  },
  {
   "cell_type": "code",
   "execution_count": 4,
   "metadata": {},
   "outputs": [
    {
     "name": "stdout",
     "output_type": "stream",
     "text": [
      "<class 'pandas.core.frame.DataFrame'>\n",
      "RangeIndex: 5000 entries, 0 to 4999\n",
      "Data columns (total 23 columns):\n",
      " #   Column         Non-Null Count  Dtype  \n",
      "---  ------         --------------  -----  \n",
      " 0   Date           5000 non-null   object \n",
      " 1   Location       5000 non-null   object \n",
      " 2   MinTemp        4975 non-null   float64\n",
      " 3   MaxTemp        4993 non-null   float64\n",
      " 4   Rainfall       4955 non-null   float64\n",
      " 5   Evaporation    2853 non-null   float64\n",
      " 6   Sunshine       2612 non-null   float64\n",
      " 7   WindGustDir    4665 non-null   object \n",
      " 8   WindGustSpeed  4667 non-null   float64\n",
      " 9   WindDir9am     4608 non-null   object \n",
      " 10  WindDir3pm     4868 non-null   object \n",
      " 11  WindSpeed9am   4961 non-null   float64\n",
      " 12  WindSpeed3pm   4914 non-null   float64\n",
      " 13  Humidity9am    4943 non-null   float64\n",
      " 14  Humidity3pm    4882 non-null   float64\n",
      " 15  Pressure9am    4493 non-null   float64\n",
      " 16  Pressure3pm    4496 non-null   float64\n",
      " 17  Cloud9am       3103 non-null   float64\n",
      " 18  Cloud3pm       3009 non-null   float64\n",
      " 19  Temp9am        4976 non-null   float64\n",
      " 20  Temp3pm        4916 non-null   float64\n",
      " 21  RainToday      4955 non-null   object \n",
      " 22  RainTomorrow   5000 non-null   object \n",
      "dtypes: float64(16), object(7)\n",
      "memory usage: 898.6+ KB\n",
      "None\n",
      "<class 'pandas.core.frame.DataFrame'>\n",
      "RangeIndex: 5000 entries, 0 to 4999\n",
      "Data columns (total 25 columns):\n",
      " #   Column                             Non-Null Count  Dtype  \n",
      "---  ------                             --------------  -----  \n",
      " 0   Unnamed: 0                         5000 non-null   int64  \n",
      " 1   id                                 5000 non-null   int64  \n",
      " 2   Gender                             5000 non-null   object \n",
      " 3   Customer Type                      5000 non-null   object \n",
      " 4   Age                                5000 non-null   int64  \n",
      " 5   Type of Travel                     5000 non-null   object \n",
      " 6   Class                              5000 non-null   object \n",
      " 7   Flight Distance                    5000 non-null   int64  \n",
      " 8   Inflight wifi service              5000 non-null   int64  \n",
      " 9   Departure/Arrival time convenient  5000 non-null   int64  \n",
      " 10  Ease of Online booking             5000 non-null   int64  \n",
      " 11  Gate location                      5000 non-null   int64  \n",
      " 12  Food and drink                     5000 non-null   int64  \n",
      " 13  Online boarding                    5000 non-null   int64  \n",
      " 14  Seat comfort                       5000 non-null   int64  \n",
      " 15  Inflight entertainment             5000 non-null   int64  \n",
      " 16  On-board service                   5000 non-null   int64  \n",
      " 17  Leg room service                   5000 non-null   int64  \n",
      " 18  Baggage handling                   5000 non-null   int64  \n",
      " 19  Checkin service                    5000 non-null   int64  \n",
      " 20  Inflight service                   5000 non-null   int64  \n",
      " 21  Cleanliness                        5000 non-null   int64  \n",
      " 22  Departure Delay in Minutes         5000 non-null   int64  \n",
      " 23  Arrival Delay in Minutes           4981 non-null   float64\n",
      " 24  satisfaction                       5000 non-null   object \n",
      "dtypes: float64(1), int64(19), object(5)\n",
      "memory usage: 976.7+ KB\n",
      "None\n",
      "<class 'pandas.core.frame.DataFrame'>\n",
      "RangeIndex: 5000 entries, 0 to 4999\n",
      "Data columns (total 17 columns):\n",
      " #   Column     Non-Null Count  Dtype \n",
      "---  ------     --------------  ----- \n",
      " 0   age        5000 non-null   int64 \n",
      " 1   job        5000 non-null   object\n",
      " 2   marital    5000 non-null   object\n",
      " 3   education  5000 non-null   object\n",
      " 4   default    5000 non-null   object\n",
      " 5   balance    5000 non-null   int64 \n",
      " 6   housing    5000 non-null   object\n",
      " 7   loan       5000 non-null   object\n",
      " 8   contact    5000 non-null   object\n",
      " 9   day        5000 non-null   int64 \n",
      " 10  month      5000 non-null   object\n",
      " 11  duration   5000 non-null   int64 \n",
      " 12  campaign   5000 non-null   int64 \n",
      " 13  pdays      5000 non-null   int64 \n",
      " 14  previous   5000 non-null   int64 \n",
      " 15  poutcome   5000 non-null   object\n",
      " 16  y          5000 non-null   object\n",
      "dtypes: int64(7), object(10)\n",
      "memory usage: 664.2+ KB\n",
      "None\n",
      "<class 'pandas.core.frame.DataFrame'>\n",
      "RangeIndex: 5000 entries, 0 to 4999\n",
      "Data columns (total 21 columns):\n",
      " #   Column                Non-Null Count  Dtype  \n",
      "---  ------                --------------  -----  \n",
      " 0   season                5000 non-null   object \n",
      " 1   cap-diameter          5000 non-null   float64\n",
      " 2   cap-shape             5000 non-null   object \n",
      " 3   cap-surface           3839 non-null   object \n",
      " 4   cap-color             5000 non-null   object \n",
      " 5   does-bruise-or-bleed  5000 non-null   object \n",
      " 6   gill-attachment       4215 non-null   object \n",
      " 7   gill-spacing          2992 non-null   object \n",
      " 8   gill-color            5000 non-null   object \n",
      " 9   stem-height           5000 non-null   float64\n",
      " 10  stem-width            5000 non-null   float64\n",
      " 11  stem-root             747 non-null    object \n",
      " 12  stem-surface          1934 non-null   object \n",
      " 13  stem-color            5000 non-null   object \n",
      " 14  veil-type             258 non-null    object \n",
      " 15  veil-color            578 non-null    object \n",
      " 16  has-ring              5000 non-null   object \n",
      " 17  ring-type             4784 non-null   object \n",
      " 18  spore-print-color     513 non-null    object \n",
      " 19  habitat               5000 non-null   object \n",
      " 20  class                 5000 non-null   object \n",
      "dtypes: float64(3), object(18)\n",
      "memory usage: 820.4+ KB\n",
      "None\n"
     ]
    }
   ],
   "source": [
    "for data in DATA:\n",
    "    print(data.info())"
   ]
  },
  {
   "cell_type": "markdown",
   "metadata": {},
   "source": [
    "# Pipeline"
   ]
  },
  {
   "cell_type": "code",
   "execution_count": 5,
   "metadata": {},
   "outputs": [],
   "source": [
    "num_pipeline = Pipeline(steps=[\n",
    "    ('impute', SimpleImputer()),\n",
    "    ('scale', MinMaxScaler())\n",
    "])\n",
    "\n",
    "cat_pipeline = Pipeline(steps=[\n",
    "    ('impute', SimpleImputer(strategy=\"most_frequent\")),\n",
    "    ('one-hot', OneHotEncoder(handle_unknown='ignore'))\n",
    "])\n",
    "\n",
    "\n",
    "col_trans = ColumnTransformer([\n",
    "    ('num_pipeline', num_pipeline, make_column_selector(dtype_include = np.number)),\n",
    "    ('cat_pipeline', cat_pipeline, make_column_selector(dtype_include = np.object_))\n",
    "])\n"
   ]
  },
  {
   "cell_type": "code",
   "execution_count": 6,
   "metadata": {},
   "outputs": [],
   "source": [
    "classifiers = [\n",
    "    DecisionTreeClassifier(),\n",
    "    RandomForestClassifier(),\n",
    "    XGBClassifier(),\n",
    "]\n",
    "\n",
    "pipelines = []"
   ]
  },
  {
   "cell_type": "code",
   "execution_count": 7,
   "metadata": {},
   "outputs": [],
   "source": [
    "for classifier in classifiers:\n",
    "    pipelines.append((type(classifier), Pipeline([(\"transformer\", col_trans), (\"model\", classifier)])))"
   ]
  },
  {
   "cell_type": "code",
   "execution_count": 8,
   "metadata": {},
   "outputs": [],
   "source": [
    "from sklearn.calibration import LabelEncoder\n",
    "\n",
    "\n",
    "scores = []\n",
    "\n",
    "for pipe in pipelines:\n",
    "    pipe_score = []\n",
    "    for data in DATA:\n",
    "        score = cross_validate(pipe[1], data.iloc[:, :-1], LabelEncoder().fit_transform(data.iloc[:,-1]), cv = 5, scoring=\"accuracy\")\n",
    "        pipe_score.append(score[\"test_score\"].mean())\n",
    "\n",
    "    scores.append((pipe[0], pipe_score))"
   ]
  },
  {
   "cell_type": "code",
   "execution_count": 9,
   "metadata": {},
   "outputs": [
    {
     "data": {
      "text/plain": [
       "['weather_final.csv',\n",
       " 'flights_final.csv',\n",
       " 'banking_final.csv',\n",
       " 'mushrooms_final.csv']"
      ]
     },
     "execution_count": 9,
     "metadata": {},
     "output_type": "execute_result"
    }
   ],
   "source": [
    "os.listdir(\"../data\")"
   ]
  },
  {
   "cell_type": "code",
   "execution_count": 10,
   "metadata": {},
   "outputs": [
    {
     "data": {
      "text/plain": [
       "[(sklearn.tree._classes.DecisionTreeClassifier,\n",
       "  [0.7956000000000001, 0.9077999999999999, 0.8692, 0.9795999999999999]),\n",
       " (sklearn.ensemble._forest.RandomForestClassifier,\n",
       "  [0.8336, 0.9428000000000001, 0.9034000000000001, 0.9996]),\n",
       " (xgboost.sklearn.XGBClassifier,\n",
       "  [0.8368, 0.9469999999999998, 0.9016, 0.9974000000000001])]"
      ]
     },
     "execution_count": 10,
     "metadata": {},
     "output_type": "execute_result"
    }
   ],
   "source": [
    "scores"
   ]
  },
  {
   "cell_type": "markdown",
   "metadata": {},
   "source": [
    "# Random Searching"
   ]
  },
  {
   "cell_type": "code",
   "execution_count": null,
   "metadata": {},
   "outputs": [],
   "source": [
    "from sklearn.model_selection import RandomizedSearchCV\n",
    "from scipy.stats import randint, uniform\n",
    "\n",
    "best_model = []\n",
    "best_score = []\n",
    "\n",
    "param_distributions = [\n",
    "    {\n",
    "        \"model__max_depth\": randint(1,30),\n",
    "        \"model__min_samples_split\":randint(1,60),\n",
    "        \"model__criterion\":[\"gini\",\"entropy\"],\n",
    "        \"model__min_samples_leaf\":randint(1,60)\n",
    "    },\n",
    "    {\n",
    "        \"model__n_estimators\":randint(1,2000),\n",
    "        \"model__min_samples_leaf\":uniform(0,1),\n",
    "        \"model__min_samples_split\":uniform(0,1),\n",
    "        \"model__max_features\":uniform(0,1)\n",
    "    }\n",
    "]\n",
    "#best_params_decisionTree = [[],[],[],[]]\n",
    "for i,pipe in enumerate(pipelines):\n",
    "    pipe_best_models = []\n",
    "    pipe_best_scores = []\n",
    "    for j,data in enumerate(DATA):\n",
    "        #data.iloc[:, :-1],LabelEncoder().fit_transform(data.iloc[:,-1]),\n",
    "        rs = RandomizedSearchCV(pipe[1], \n",
    "                                param_distributions= param_distributions[i],\n",
    "                                verbose=True,\n",
    "                                )\n",
    "        rs.fit(data.iloc[:, :-1],LabelEncoder().fit_transform(data.iloc[:,-1]))\n",
    "        pipe_best_scores.append(rs.best_score_)\n",
    "        pipe_best_models.append(rs.best_estimator_)\n",
    "       #best_params_decisionTree[j].append(rs.best_params_)\n",
    "    best_score.append((pipe[0],pipe_best_scores))\n",
    "    best_model.append((pipe[0],pipe_best_models))\n",
    "        "
   ]
  },
  {
   "cell_type": "code",
   "execution_count": 19,
   "metadata": {},
   "outputs": [
    {
     "data": {
      "text/plain": [
       "[[{'model__criterion': 'entropy',\n",
       "   'model__max_depth': 5,\n",
       "   'model__min_samples_leaf': 59,\n",
       "   'model__min_samples_split': 27}],\n",
       " [{'model__criterion': 'gini',\n",
       "   'model__max_depth': 14,\n",
       "   'model__min_samples_leaf': 11,\n",
       "   'model__min_samples_split': 43}],\n",
       " [{'model__criterion': 'entropy',\n",
       "   'model__max_depth': 27,\n",
       "   'model__min_samples_leaf': 1,\n",
       "   'model__min_samples_split': 15}],\n",
       " [{'model__criterion': 'gini',\n",
       "   'model__max_depth': 7,\n",
       "   'model__min_samples_leaf': 43,\n",
       "   'model__min_samples_split': 44}]]"
      ]
     },
     "execution_count": 19,
     "metadata": {},
     "output_type": "execute_result"
    }
   ],
   "source": [
    "#best_params_decisionTree"
   ]
  },
  {
   "cell_type": "code",
   "execution_count": 15,
   "metadata": {},
   "outputs": [
    {
     "data": {
      "text/plain": [
       "[(sklearn.tree._classes.DecisionTreeClassifier,\n",
       "  [0.827, 0.9206, 0.8966000000000001, 0.9663999999999999]),\n",
       " (sklearn.ensemble._forest.RandomForestClassifier,\n",
       "  [0.7758, 0.836, 0.883, 0.6804])]"
      ]
     },
     "execution_count": 15,
     "metadata": {},
     "output_type": "execute_result"
    }
   ],
   "source": [
    "best_score"
   ]
  },
  {
   "cell_type": "code",
   "execution_count": 16,
   "metadata": {},
   "outputs": [
    {
     "data": {
      "text/plain": [
       "[(sklearn.tree._classes.DecisionTreeClassifier,\n",
       "  [Pipeline(steps=[('transformer',\n",
       "                    ColumnTransformer(transformers=[('num_pipeline',\n",
       "                                                     Pipeline(steps=[('impute',\n",
       "                                                                      SimpleImputer()),\n",
       "                                                                     ('scale',\n",
       "                                                                      MinMaxScaler())]),\n",
       "                                                     <sklearn.compose._column_transformer.make_column_selector object at 0x1313cad10>),\n",
       "                                                    ('cat_pipeline',\n",
       "                                                     Pipeline(steps=[('impute',\n",
       "                                                                      SimpleImputer(strategy='most_frequent')),\n",
       "                                                                     ('one-hot',\n",
       "                                                                      OneHotEncoder(handle_unknown='ignore'))]),\n",
       "                                                     <sklearn.compose._column_transformer.make_column_selector object at 0x1313cb610>)])),\n",
       "                   ('model',\n",
       "                    DecisionTreeClassifier(max_depth=7, min_samples_leaf=37,\n",
       "                                           min_samples_split=29))]),\n",
       "   Pipeline(steps=[('transformer',\n",
       "                    ColumnTransformer(transformers=[('num_pipeline',\n",
       "                                                     Pipeline(steps=[('impute',\n",
       "                                                                      SimpleImputer()),\n",
       "                                                                     ('scale',\n",
       "                                                                      MinMaxScaler())]),\n",
       "                                                     <sklearn.compose._column_transformer.make_column_selector object at 0x129eedc90>),\n",
       "                                                    ('cat_pipeline',\n",
       "                                                     Pipeline(steps=[('impute',\n",
       "                                                                      SimpleImputer(strategy='most_frequent')),\n",
       "                                                                     ('one-hot',\n",
       "                                                                      OneHotEncoder(handle_unknown='ignore'))]),\n",
       "                                                     <sklearn.compose._column_transformer.make_column_selector object at 0x129eeefd0>)])),\n",
       "                   ('model',\n",
       "                    DecisionTreeClassifier(max_depth=7, min_samples_leaf=11,\n",
       "                                           min_samples_split=50))]),\n",
       "   Pipeline(steps=[('transformer',\n",
       "                    ColumnTransformer(transformers=[('num_pipeline',\n",
       "                                                     Pipeline(steps=[('impute',\n",
       "                                                                      SimpleImputer()),\n",
       "                                                                     ('scale',\n",
       "                                                                      MinMaxScaler())]),\n",
       "                                                     <sklearn.compose._column_transformer.make_column_selector object at 0x1313df990>),\n",
       "                                                    ('cat_pipeline',\n",
       "                                                     Pipeline(steps=[('impute',\n",
       "                                                                      SimpleImputer(strategy='most_frequent')),\n",
       "                                                                     ('one-hot',\n",
       "                                                                      OneHotEncoder(handle_unknown='ignore'))]),\n",
       "                                                     <sklearn.compose._column_transformer.make_column_selector object at 0x130a3a450>)])),\n",
       "                   ('model',\n",
       "                    DecisionTreeClassifier(max_depth=11, min_samples_leaf=51,\n",
       "                                           min_samples_split=43))]),\n",
       "   Pipeline(steps=[('transformer',\n",
       "                    ColumnTransformer(transformers=[('num_pipeline',\n",
       "                                                     Pipeline(steps=[('impute',\n",
       "                                                                      SimpleImputer()),\n",
       "                                                                     ('scale',\n",
       "                                                                      MinMaxScaler())]),\n",
       "                                                     <sklearn.compose._column_transformer.make_column_selector object at 0x1313d2710>),\n",
       "                                                    ('cat_pipeline',\n",
       "                                                     Pipeline(steps=[('impute',\n",
       "                                                                      SimpleImputer(strategy='most_frequent')),\n",
       "                                                                     ('one-hot',\n",
       "                                                                      OneHotEncoder(handle_unknown='ignore'))]),\n",
       "                                                     <sklearn.compose._column_transformer.make_column_selector object at 0x12f1e5210>)])),\n",
       "                   ('model',\n",
       "                    DecisionTreeClassifier(max_depth=23, min_samples_split=25))])]),\n",
       " (sklearn.ensemble._forest.RandomForestClassifier,\n",
       "  [Pipeline(steps=[('transformer',\n",
       "                    ColumnTransformer(transformers=[('num_pipeline',\n",
       "                                                     Pipeline(steps=[('impute',\n",
       "                                                                      SimpleImputer()),\n",
       "                                                                     ('scale',\n",
       "                                                                      MinMaxScaler())]),\n",
       "                                                     <sklearn.compose._column_transformer.make_column_selector object at 0x13147bc50>),\n",
       "                                                    ('cat_pipeline',\n",
       "                                                     Pipeline(steps=[('impute',\n",
       "                                                                      SimpleImputer(strategy='most_frequent')),\n",
       "                                                                     ('one-hot',\n",
       "                                                                      OneHotEncoder(handle_unknown='ignore'))]),\n",
       "                                                     <sklearn.compose._column_transformer.make_column_selector object at 0x131478c90>)])),\n",
       "                   ('model',\n",
       "                    RandomForestClassifier(max_features=0.5566914921425262,\n",
       "                                           min_samples_leaf=0.609580698616872,\n",
       "                                           min_samples_split=0.5616115937977526,\n",
       "                                           n_estimators=774))]),\n",
       "   Pipeline(steps=[('transformer',\n",
       "                    ColumnTransformer(transformers=[('num_pipeline',\n",
       "                                                     Pipeline(steps=[('impute',\n",
       "                                                                      SimpleImputer()),\n",
       "                                                                     ('scale',\n",
       "                                                                      MinMaxScaler())]),\n",
       "                                                     <sklearn.compose._column_transformer.make_column_selector object at 0x13311afd0>),\n",
       "                                                    ('cat_pipeline',\n",
       "                                                     Pipeline(steps=[('impute',\n",
       "                                                                      SimpleImputer(strategy='most_frequent')),\n",
       "                                                                     ('one-hot',\n",
       "                                                                      OneHotEncoder(handle_unknown='ignore'))]),\n",
       "                                                     <sklearn.compose._column_transformer.make_column_selector object at 0x13305ae50>)])),\n",
       "                   ('model',\n",
       "                    RandomForestClassifier(max_features=0.5601613168958166,\n",
       "                                           min_samples_leaf=0.09540313238610165,\n",
       "                                           min_samples_split=0.6218930041227311,\n",
       "                                           n_estimators=366))]),\n",
       "   Pipeline(steps=[('transformer',\n",
       "                    ColumnTransformer(transformers=[('num_pipeline',\n",
       "                                                     Pipeline(steps=[('impute',\n",
       "                                                                      SimpleImputer()),\n",
       "                                                                     ('scale',\n",
       "                                                                      MinMaxScaler())]),\n",
       "                                                     <sklearn.compose._column_transformer.make_column_selector object at 0x13177bf90>),\n",
       "                                                    ('cat_pipeline',\n",
       "                                                     Pipeline(steps=[('impute',\n",
       "                                                                      SimpleImputer(strategy='most_frequent')),\n",
       "                                                                     ('one-hot',\n",
       "                                                                      OneHotEncoder(handle_unknown='ignore'))]),\n",
       "                                                     <sklearn.compose._column_transformer.make_column_selector object at 0x13149abd0>)])),\n",
       "                   ('model',\n",
       "                    RandomForestClassifier(max_features=0.18245328766940105,\n",
       "                                           min_samples_leaf=0.08627756321501712,\n",
       "                                           min_samples_split=0.3014733992210894,\n",
       "                                           n_estimators=1198))]),\n",
       "   Pipeline(steps=[('transformer',\n",
       "                    ColumnTransformer(transformers=[('num_pipeline',\n",
       "                                                     Pipeline(steps=[('impute',\n",
       "                                                                      SimpleImputer()),\n",
       "                                                                     ('scale',\n",
       "                                                                      MinMaxScaler())]),\n",
       "                                                     <sklearn.compose._column_transformer.make_column_selector object at 0x1332de190>),\n",
       "                                                    ('cat_pipeline',\n",
       "                                                     Pipeline(steps=[('impute',\n",
       "                                                                      SimpleImputer(strategy='most_frequent')),\n",
       "                                                                     ('one-hot',\n",
       "                                                                      OneHotEncoder(handle_unknown='ignore'))]),\n",
       "                                                     <sklearn.compose._column_transformer.make_column_selector object at 0x1331555d0>)])),\n",
       "                   ('model',\n",
       "                    RandomForestClassifier(max_features=0.6447948697604541,\n",
       "                                           min_samples_leaf=0.0023886925952724125,\n",
       "                                           min_samples_split=0.28627823370237493,\n",
       "                                           n_estimators=1405))])])]"
      ]
     },
     "execution_count": 16,
     "metadata": {},
     "output_type": "execute_result"
    }
   ],
   "source": [
    "best_model"
   ]
  }
 ],
 "metadata": {
  "kernelspec": {
   "display_name": "Python 3",
   "language": "python",
   "name": "python3"
  },
  "language_info": {
   "codemirror_mode": {
    "name": "ipython",
    "version": 3
   },
   "file_extension": ".py",
   "mimetype": "text/x-python",
   "name": "python",
   "nbconvert_exporter": "python",
   "pygments_lexer": "ipython3",
   "version": "3.11.10"
  }
 },
 "nbformat": 4,
 "nbformat_minor": 2
}
