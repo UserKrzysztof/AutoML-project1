{
 "cells": [
  {
   "cell_type": "markdown",
   "metadata": {},
   "source": [
    "# Normalizing sizes of each dataset"
   ]
  },
  {
   "cell_type": "code",
   "execution_count": 2,
   "metadata": {},
   "outputs": [],
   "source": [
    "import pandas as pd\n",
    "from sklearn.model_selection import train_test_split"
   ]
  },
  {
   "cell_type": "code",
   "execution_count": 3,
   "metadata": {},
   "outputs": [],
   "source": [
    "flights = pd.read_csv(\"../data/flights.csv\")\n",
    "mushrooms = pd.read_csv(\"../data/mushrooms.csv\", sep=\";\")\n",
    "weather = pd.read_csv(\"../data/weatherAUS.csv\")\n",
    "banking = pd.read_csv(\"../data/banking.csv\", sep=\";\")"
   ]
  },
  {
   "cell_type": "code",
   "execution_count": 4,
   "metadata": {},
   "outputs": [],
   "source": [
    "def data_preparation(data_from, path_to, subset_for_drop, size=5000):\n",
    "    data_from = data_from.dropna(subset=[subset_for_drop])\n",
    "    str = data_from[subset_for_drop]\n",
    "    data, _ = train_test_split(data_from, train_size=size, stratify=str)\n",
    "    data.to_csv(path_to, index=False)\n",
    "    return data"
   ]
  },
  {
   "cell_type": "code",
   "execution_count": 5,
   "metadata": {},
   "outputs": [],
   "source": [
    "flights_final = data_preparation(flights, \"../data/flights_final.csv\",\"satisfaction\")\n",
    "mushrooms_final = data_preparation(mushrooms, \"../data/mushrooms_final.csv\",\"class\")\n",
    "weather_final = data_preparation(weather, \"../data/weatherAUS_final.csv\",\"RainTomorrow\")\n",
    "banking_final = data_preparation(banking, \"../data/banking_final.csv\",\"y\")"
   ]
  },
  {
   "cell_type": "code",
   "execution_count": null,
   "metadata": {},
   "outputs": [
    {
     "data": {
      "text/plain": [
       "((5000, 25), (5000, 21), (5000, 23), (5000, 17))"
      ]
     },
     "execution_count": 6,
     "metadata": {},
     "output_type": "execute_result"
    }
   ],
   "source": [
    "flights_final.shape, mushrooms_final.shape, weather_final.shape, banking_final.shape"
   ]
  }
 ],
 "metadata": {
  "kernelspec": {
   "display_name": "Python 3",
   "language": "python",
   "name": "python3"
  },
  "language_info": {
   "codemirror_mode": {
    "name": "ipython",
    "version": 3
   },
   "file_extension": ".py",
   "mimetype": "text/x-python",
   "name": "python",
   "nbconvert_exporter": "python",
   "pygments_lexer": "ipython3",
   "version": "3.11.10"
  }
 },
 "nbformat": 4,
 "nbformat_minor": 2
}
